{
  "nbformat": 4,
  "nbformat_minor": 0,
  "metadata": {
    "colab": {
      "provenance": [],
      "gpuType": "T4",
      "include_colab_link": true
    },
    "kernelspec": {
      "name": "python3",
      "display_name": "Python 3"
    },
    "language_info": {
      "name": "python"
    },
    "accelerator": "GPU"
  },
  "cells": [
    {
      "cell_type": "markdown",
      "metadata": {
        "id": "view-in-github",
        "colab_type": "text"
      },
      "source": [
        "<a href=\"https://colab.research.google.com/github/nasare34/Interview_Task/blob/main/Interview_Task.ipynb\" target=\"_parent\"><img src=\"https://colab.research.google.com/assets/colab-badge.svg\" alt=\"Open In Colab\"/></a>"
      ]
    },
    {
      "cell_type": "code",
      "execution_count": null,
      "metadata": {
        "id": "nRfg2szqt_Ap"
      },
      "outputs": [],
      "source": [
        "import numpy as np\n",
        "from sklearn.preprocessing import LabelEncoder\n",
        "from tensorflow.keras.preprocessing.text import Tokenizer\n",
        "from tensorflow.keras.preprocessing.sequence import pad_sequences\n",
        "import pandas as pd\n",
        "import tensorflow as tf\n",
        "from tensorflow.keras.models import Sequential\n",
        "from tensorflow.keras.layers import Embedding, Flatten, Dense\n",
        "from sklearn.model_selection import train_test_split\n"
      ]
    },
    {
      "cell_type": "code",
      "source": [
        "import pandas as pd\n",
        "\n",
        "# I Created a small datasets\n",
        "data = {\n",
        "    'name': ['iPhone 13', 'MacBook Pro', 'Levi\\'s Jeans', 'Dining Table'],\n",
        "    'description': [\n",
        "        'Latest model of iPhone with advanced features',\n",
        "        'Powerful laptop with M1 chip and Retina display',\n",
        "        'Comfortable and stylish jeans from Levi\\'s',\n",
        "        'Wooden dining table with modern design'\n",
        "    ],\n",
        "    'price': [799.67, 1299.55, 59, 499.79],\n",
        "    'category': ['Electronics', 'Electronics', 'Clothing', 'Furniture']\n",
        "}\n",
        "\n",
        "df = pd.DataFrame(data)\n",
        "print(df)\n"
      ],
      "metadata": {
        "colab": {
          "base_uri": "https://localhost:8080/"
        },
        "id": "bVExYugquXW-",
        "outputId": "dd3fa802-f468-4edf-fc6c-3f6d4559f0df"
      },
      "execution_count": null,
      "outputs": [
        {
          "output_type": "stream",
          "name": "stdout",
          "text": [
            "           name                                      description    price  \\\n",
            "0     iPhone 13    Latest model of iPhone with advanced features   799.67   \n",
            "1   MacBook Pro  Powerful laptop with M1 chip and Retina display  1299.55   \n",
            "2  Levi's Jeans        Comfortable and stylish jeans from Levi's    59.00   \n",
            "3  Dining Table           Wooden dining table with modern design   499.79   \n",
            "\n",
            "      category  \n",
            "0  Electronics  \n",
            "1  Electronics  \n",
            "2     Clothing  \n",
            "3    Furniture  \n"
          ]
        }
      ]
    },
    {
      "cell_type": "code",
      "source": [
        "# Working on Tokenization of text attributes (name and description)\n",
        "tokenizer = Tokenizer()\n",
        "tokenizer.fit_on_texts(df['name'] + df['description'])\n",
        "name_sequences = tokenizer.texts_to_sequences(df['name'])\n",
        "description_sequences = tokenizer.texts_to_sequences(df['description'])"
      ],
      "metadata": {
        "id": "sw9x3EExwACU"
      },
      "execution_count": null,
      "outputs": []
    },
    {
      "cell_type": "code",
      "source": [
        "# Padding sequences to ensure they have the same length\n",
        "max_len = max(max(len(seq) for seq in name_sequences), max(len(seq) for seq in description_sequences))\n",
        "name_sequences = pad_sequences(name_sequences, maxlen=max_len)\n",
        "description_sequences = pad_sequences(description_sequences, maxlen=max_len)"
      ],
      "metadata": {
        "id": "_XmkJwSPwNN0"
      },
      "execution_count": null,
      "outputs": []
    },
    {
      "cell_type": "code",
      "source": [
        "# Okay, Let's work on the category by Encoding categorical attributes (category)\n",
        "label_encoder = LabelEncoder()\n",
        "categories = label_encoder.fit_transform(df['category'])"
      ],
      "metadata": {
        "id": "pRNOUsLpwQ5j"
      },
      "execution_count": null,
      "outputs": []
    },
    {
      "cell_type": "code",
      "source": [
        "# Combining all features into a single array\n",
        "features = np.hstack((name_sequences, description_sequences, df[['price']].values))\n",
        "labels = categories"
      ],
      "metadata": {
        "id": "kR4iFXrwwVvI"
      },
      "execution_count": null,
      "outputs": []
    },
    {
      "cell_type": "code",
      "source": [
        "print(\"Features:\\n\", features)\n",
        "print(\"Labels:\\n\", labels)"
      ],
      "metadata": {
        "colab": {
          "base_uri": "https://localhost:8080/"
        },
        "id": "vx52-qASwY3I",
        "outputId": "1239a8c4-fb6c-47dd-c327-6ee671cc4bb2"
      },
      "execution_count": null,
      "outputs": [
        {
          "output_type": "stream",
          "name": "stdout",
          "text": [
            "Features:\n",
            " [[0.00000e+00 0.00000e+00 0.00000e+00 0.00000e+00 0.00000e+00 0.00000e+00\n",
            "  2.00000e+00 0.00000e+00 7.00000e+00 8.00000e+00 2.00000e+00 1.00000e+00\n",
            "  9.00000e+00 1.00000e+01 7.99670e+02]\n",
            " [0.00000e+00 0.00000e+00 0.00000e+00 0.00000e+00 0.00000e+00 0.00000e+00\n",
            "  1.10000e+01 1.30000e+01 1.00000e+00 1.40000e+01 1.50000e+01 3.00000e+00\n",
            "  1.60000e+01 1.70000e+01 1.29955e+03]\n",
            " [0.00000e+00 0.00000e+00 0.00000e+00 0.00000e+00 0.00000e+00 4.00000e+00\n",
            "  2.00000e+01 0.00000e+00 0.00000e+00 3.00000e+00 1.90000e+01 2.00000e+01\n",
            "  2.10000e+01 4.00000e+00 5.90000e+01]\n",
            " [0.00000e+00 0.00000e+00 0.00000e+00 0.00000e+00 0.00000e+00 5.00000e+00\n",
            "  2.30000e+01 0.00000e+00 0.00000e+00 5.00000e+00 2.30000e+01 1.00000e+00\n",
            "  2.40000e+01 2.50000e+01 4.99790e+02]]\n",
            "Labels:\n",
            " [1 1 0 2]\n"
          ]
        }
      ]
    },
    {
      "cell_type": "code",
      "source": [
        "\n",
        "# Split the data into training and testing sets\n",
        "X_train, X_test, y_train, y_test = train_test_split(features, labels, test_size=0.2, random_state=42)\n"
      ],
      "metadata": {
        "id": "cWq9l7WPx2yt"
      },
      "execution_count": null,
      "outputs": []
    },
    {
      "cell_type": "code",
      "source": [
        "# I defined the Define the model\n",
        "model = Sequential([\n",
        "    Embedding(input_dim=len(tokenizer.word_index) + 1, output_dim=8, input_length=features.shape[1]),\n",
        "    Flatten(),\n",
        "    Dense(16, activation='relu'),\n",
        "    Dense(8, activation='relu'),\n",
        "    Dense(len(label_encoder.classes_), activation='softmax')\n",
        "])"
      ],
      "metadata": {
        "id": "cZYyhVKrwpjs"
      },
      "execution_count": null,
      "outputs": []
    },
    {
      "cell_type": "code",
      "source": [
        "# Compile the model\n",
        "model.compile(optimizer='adam', loss='sparse_categorical_crossentropy', metrics=['accuracy'])\n"
      ],
      "metadata": {
        "id": "yJxCECVjww1Y"
      },
      "execution_count": null,
      "outputs": []
    },
    {
      "cell_type": "code",
      "source": [
        "# Training the model\n",
        "model.fit(features, labels, epochs=30, batch_size=2, verbose=1)\n"
      ],
      "metadata": {
        "colab": {
          "base_uri": "https://localhost:8080/"
        },
        "id": "i2y0YTOdw06I",
        "outputId": "01d7e320-9983-454f-9e06-201db9592c3b"
      },
      "execution_count": null,
      "outputs": [
        {
          "output_type": "stream",
          "name": "stdout",
          "text": [
            "Epoch 1/30\n",
            "2/2 [==============================] - 1s 92ms/step - loss: 1.0961 - accuracy: 0.0000e+00\n",
            "Epoch 2/30\n",
            "2/2 [==============================] - 0s 9ms/step - loss: 1.0882 - accuracy: 0.7500\n",
            "Epoch 3/30\n",
            "2/2 [==============================] - 0s 9ms/step - loss: 1.0835 - accuracy: 0.7500\n",
            "Epoch 4/30\n",
            "2/2 [==============================] - 0s 8ms/step - loss: 1.0800 - accuracy: 0.7500\n",
            "Epoch 5/30\n",
            "2/2 [==============================] - 0s 8ms/step - loss: 1.0753 - accuracy: 0.7500\n",
            "Epoch 6/30\n",
            "2/2 [==============================] - 0s 8ms/step - loss: 1.0721 - accuracy: 0.7500\n",
            "Epoch 7/30\n",
            "2/2 [==============================] - 0s 7ms/step - loss: 1.0674 - accuracy: 0.7500\n",
            "Epoch 8/30\n",
            "2/2 [==============================] - 0s 8ms/step - loss: 1.0625 - accuracy: 0.7500\n",
            "Epoch 9/30\n",
            "2/2 [==============================] - 0s 10ms/step - loss: 1.0580 - accuracy: 0.7500\n",
            "Epoch 10/30\n",
            "2/2 [==============================] - 0s 7ms/step - loss: 1.0537 - accuracy: 0.7500\n",
            "Epoch 11/30\n",
            "2/2 [==============================] - 0s 8ms/step - loss: 1.0479 - accuracy: 0.7500\n",
            "Epoch 12/30\n",
            "2/2 [==============================] - 0s 7ms/step - loss: 1.0431 - accuracy: 0.7500\n",
            "Epoch 13/30\n",
            "2/2 [==============================] - 0s 7ms/step - loss: 1.0376 - accuracy: 0.7500\n",
            "Epoch 14/30\n",
            "2/2 [==============================] - 0s 8ms/step - loss: 1.0319 - accuracy: 0.7500\n",
            "Epoch 15/30\n",
            "2/2 [==============================] - 0s 7ms/step - loss: 1.0253 - accuracy: 0.7500\n",
            "Epoch 16/30\n",
            "2/2 [==============================] - 0s 7ms/step - loss: 1.0188 - accuracy: 0.7500\n",
            "Epoch 17/30\n",
            "2/2 [==============================] - 0s 8ms/step - loss: 1.0131 - accuracy: 0.7500\n",
            "Epoch 18/30\n",
            "2/2 [==============================] - 0s 9ms/step - loss: 1.0058 - accuracy: 0.7500\n",
            "Epoch 19/30\n",
            "2/2 [==============================] - 0s 7ms/step - loss: 0.9985 - accuracy: 0.7500\n",
            "Epoch 20/30\n",
            "2/2 [==============================] - 0s 8ms/step - loss: 0.9907 - accuracy: 0.7500\n",
            "Epoch 21/30\n",
            "2/2 [==============================] - 0s 8ms/step - loss: 0.9832 - accuracy: 0.7500\n",
            "Epoch 22/30\n",
            "2/2 [==============================] - 0s 7ms/step - loss: 0.9748 - accuracy: 0.7500\n",
            "Epoch 23/30\n",
            "2/2 [==============================] - 0s 7ms/step - loss: 0.9662 - accuracy: 0.7500\n",
            "Epoch 24/30\n",
            "2/2 [==============================] - 0s 7ms/step - loss: 0.9560 - accuracy: 0.7500\n",
            "Epoch 25/30\n",
            "2/2 [==============================] - 0s 8ms/step - loss: 0.9485 - accuracy: 0.7500\n",
            "Epoch 26/30\n",
            "2/2 [==============================] - 0s 10ms/step - loss: 0.9375 - accuracy: 0.7500\n",
            "Epoch 27/30\n",
            "2/2 [==============================] - 0s 7ms/step - loss: 0.9274 - accuracy: 0.7500\n",
            "Epoch 28/30\n",
            "2/2 [==============================] - 0s 8ms/step - loss: 0.9169 - accuracy: 0.7500\n",
            "Epoch 29/30\n",
            "2/2 [==============================] - 0s 8ms/step - loss: 0.9069 - accuracy: 0.7500\n",
            "Epoch 30/30\n",
            "2/2 [==============================] - 0s 7ms/step - loss: 0.8952 - accuracy: 0.7500\n"
          ]
        },
        {
          "output_type": "execute_result",
          "data": {
            "text/plain": [
              "<keras.src.callbacks.History at 0x7f5a1f3250f0>"
            ]
          },
          "metadata": {},
          "execution_count": 35
        }
      ]
    },
    {
      "cell_type": "code",
      "source": [
        "# Let's Evaluate the model\n",
        "loss, accuracy = model.evaluate(features, labels, verbose=1)\n",
        "print(f\"Loss: {loss}, Accuracy: {accuracy}\")"
      ],
      "metadata": {
        "colab": {
          "base_uri": "https://localhost:8080/"
        },
        "id": "lrBpj-ySUWGg",
        "outputId": "ea89581b-e0c5-49f9-feb2-9934cc38423e"
      },
      "execution_count": null,
      "outputs": [
        {
          "output_type": "stream",
          "name": "stdout",
          "text": [
            "1/1 [==============================] - 0s 145ms/step - loss: 0.8850 - accuracy: 0.7500\n",
            "Loss: 0.8849900960922241, Accuracy: 0.75\n"
          ]
        }
      ]
    },
    {
      "cell_type": "code",
      "source": [
        "# Okay, again, Evaluate the model on the test set\n",
        "loss, accuracy = model.evaluate(X_test, y_test, verbose=1)\n",
        "print(f\"Test Loss: {loss}, Test Accuracy: {accuracy}\")\n"
      ],
      "metadata": {
        "colab": {
          "base_uri": "https://localhost:8080/"
        },
        "id": "Osz1b7OBViFN",
        "outputId": "957e1def-5903-4767-f4cd-7fc8ff23e3f6"
      },
      "execution_count": null,
      "outputs": [
        {
          "output_type": "stream",
          "name": "stdout",
          "text": [
            "1/1 [==============================] - 0s 24ms/step - loss: 0.8106 - accuracy: 1.0000\n",
            "Test Loss: 0.8106189370155334, Test Accuracy: 1.0\n"
          ]
        }
      ]
    },
    {
      "cell_type": "markdown",
      "source": [
        "                                                  PREDICTION\n",
        "\n",
        "---\n",
        "\n"
      ],
      "metadata": {
        "id": "6zOLDlQyi_6Z"
      }
    },
    {
      "cell_type": "code",
      "source": [
        "# Prepare input data for prediction\n",
        "new_product_name = df['name'][3]  # Selecting the name of the first product in the dataset\n",
        "new_product_description = df['description'][3]  # Selecting the description of the first product in the dataset\n",
        "new_product_price = df['price'][3]  # Selecting the price of the first product in the dataset\n"
      ],
      "metadata": {
        "id": "sdriPdqmjmV_"
      },
      "execution_count": 58,
      "outputs": []
    },
    {
      "cell_type": "code",
      "source": [
        "# Tokenize and pad the input text data\n",
        "new_name_sequence = tokenizer.texts_to_sequences([new_product_name])\n",
        "new_description_sequence = tokenizer.texts_to_sequences([new_product_description])\n",
        "new_name_padded = pad_sequences(new_name_sequence, maxlen=max_len)\n",
        "new_description_padded = pad_sequences(new_description_sequence, maxlen=max_len)\n"
      ],
      "metadata": {
        "id": "rJgLiSCCjsiV"
      },
      "execution_count": 59,
      "outputs": []
    },
    {
      "cell_type": "code",
      "source": [
        "# Combine features into a single array\n",
        "new_features = np.hstack((new_name_padded, new_description_padded, np.array([[new_product_price]])))\n"
      ],
      "metadata": {
        "id": "wo_Rw4Hch62R"
      },
      "execution_count": 60,
      "outputs": []
    },
    {
      "cell_type": "code",
      "source": [
        "# Use the model to make predictions\n",
        "predicted_probabilities = model.predict(new_features)\n",
        "predicted_category = np.argmax(predicted_probabilities)"
      ],
      "metadata": {
        "colab": {
          "base_uri": "https://localhost:8080/"
        },
        "id": "Ih_K7p88iAGc",
        "outputId": "455565d8-a625-4f08-e024-57b943fe1f22"
      },
      "execution_count": 61,
      "outputs": [
        {
          "output_type": "stream",
          "name": "stdout",
          "text": [
            "1/1 [==============================] - 0s 17ms/step\n"
          ]
        }
      ]
    },
    {
      "cell_type": "code",
      "source": [
        "# Decode the predicted category\n",
        "predicted_category_name = label_encoder.inverse_transform([predicted_category])\n"
      ],
      "metadata": {
        "id": "frIda2CcidAg"
      },
      "execution_count": 62,
      "outputs": []
    },
    {
      "cell_type": "code",
      "source": [
        "# Print the predicted category\n",
        "print(\"Predicted Category:\", predicted_category_name)"
      ],
      "metadata": {
        "colab": {
          "base_uri": "https://localhost:8080/"
        },
        "id": "hZB7KyULijq5",
        "outputId": "14a8058f-f1e2-494e-e902-73a56f7cc7bb"
      },
      "execution_count": 63,
      "outputs": [
        {
          "output_type": "stream",
          "name": "stdout",
          "text": [
            "Predicted Category: ['Furniture']\n"
          ]
        }
      ]
    }
  ]
}